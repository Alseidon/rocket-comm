{
 "cells": [
  {
   "cell_type": "code",
   "execution_count": null,
   "metadata": {},
   "outputs": [],
   "source": [
    "import socket\n",
    "from rockcomm.commsocket import CommSocket\n",
    "from rockcomm.connexionthread import ConnexionThread\n",
    "import time\n",
    "import threading\n",
    "\n",
    "def InforcvThread(ConnexionThread):\n",
    "    def createCommSock(self, sock, address):\n",
    "        return InforcvSocket(sock, address)\n",
    "    \n",
    "    def comm(self):\n",
    "        self.commsock.comm()\n",
    "\n",
    "def InforcvSocket(CommSocket):\n",
    "    def comm(self):\n",
    "        print(self.commsock.recv(2048))\n",
    "        self.commsock.send(b'Info rcved')\n",
    "        self.commsock.close()\n",
    "        return\n",
    "\n",
    "ipaddU = ('localhost', 2111)\n",
    "ipaddI = ('localhost', 2112)"
   ]
  },
  {
   "cell_type": "code",
   "execution_count": null,
   "metadata": {},
   "outputs": [],
   "source": [
    "sockU = socket.socket(socket.AF_INET, socket.SOCK_STREAM)\n",
    "sockI = socket.socket(socket.AF_INET, socket.SOCK_STREAM)"
   ]
  },
  {
   "cell_type": "code",
   "execution_count": null,
   "metadata": {},
   "outputs": [],
   "source": [
    "sockU.connect(ipaddU) #must start server first"
   ]
  },
  {
   "cell_type": "code",
   "execution_count": null,
   "metadata": {},
   "outputs": [],
   "source": [
    "sockU.send(b'Hello')\n",
    "sockU.recv(2048)"
   ]
  },
  {
   "cell_type": "code",
   "execution_count": null,
   "metadata": {},
   "outputs": [],
   "source": [
    "sockI.connect(ipaddI)\n",
    "info = sockI.recv(2048)\n",
    "sockI.send(b'info rcved')\n",
    "print(info.decode())"
   ]
  },
  {
   "cell_type": "code",
   "execution_count": null,
   "metadata": {},
   "outputs": [],
   "source": [
    "sockU.close()\n",
    "sockI.close()"
   ]
  },
  {
   "cell_type": "code",
   "execution_count": null,
   "metadata": {},
   "outputs": [],
   "source": [
    "sockI = socket.socket(socket.AF_INET, socket.SOCK_STREAM)\n",
    "sockI.connect(ipaddI)\n",
    "IThread = InforcvThread(ippaddI)\n",
    "IThread.start()"
   ]
  },
  {
   "cell_type": "code",
   "execution_count": null,
   "metadata": {},
   "outputs": [],
   "source": [
    "IThread.stopconnexion()"
   ]
  }
 ],
 "metadata": {
  "kernelspec": {
   "display_name": "Python 3",
   "language": "python",
   "name": "python3"
  },
  "language_info": {
   "codemirror_mode": {
    "name": "ipython",
    "version": 3
   },
   "file_extension": ".py",
   "mimetype": "text/x-python",
   "name": "python",
   "nbconvert_exporter": "python",
   "pygments_lexer": "ipython3",
   "version": "3.7.4"
  }
 },
 "nbformat": 4,
 "nbformat_minor": 2
}

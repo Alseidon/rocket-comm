{
 "cells": [
  {
   "cell_type": "code",
   "execution_count": null,
   "metadata": {},
   "outputs": [],
   "source": [
    "import socket\n",
    "from rockcomm.commsocket import CommSocket\n",
    "from rockcomm.connexionthread import ConnexionThread\n",
    "import time\n",
    "import threading\n",
    "\n",
    "class InforcvThread(threading.Thread):\n",
    "    def __init__(self, address):\n",
    "        threading.Thread.__init__(self)\n",
    "        self.address = address\n",
    "        self.continuous = True\n",
    "        return\n",
    "    \n",
    "    def run(self):\n",
    "        while(self.continuous):\n",
    "            print('IRcv thread running new loop')\n",
    "            self.sock = socket.socket(socket.AF_INET, socket.SOCK_STREAM)\n",
    "            self.sock.connect(self.address)\n",
    "            sockIRCV = InforcvSocket(self.sock, self.address)\n",
    "            sockIRCV.comm()\n",
    "            self.sock.close()\n",
    "            time.sleep(1)\n",
    "        print('Inforcv Thread at {} shutting down'.format(self.address))\n",
    "    \n",
    "    def stopconnexion(self):\n",
    "        self.continuous = False\n",
    "\n",
    "class InforcvSocket():\n",
    "    def __init__(self, sock, address):\n",
    "        self.sock = sock\n",
    "        self.address = address\n",
    "        return\n",
    "    \n",
    "    def comm(self):\n",
    "        info = self.sock.recv(2048)\n",
    "        if info != b'0':\n",
    "            print(info.decode())\n",
    "        self.sock.send(b'info rcved')\n",
    "        time.sleep(1)\n",
    "        self.sock.close()\n",
    "        return\n",
    "\n",
    "ipaddU = ('localhost', 2111)\n",
    "ipaddI = ('localhost', 2112)"
   ]
  },
  {
   "cell_type": "code",
   "execution_count": null,
   "metadata": {},
   "outputs": [],
   "source": [
    "IThread = InforcvThread(('localhost', 2112))\n",
    "IThread.start()"
   ]
  },
  {
   "cell_type": "code",
   "execution_count": null,
   "metadata": {},
   "outputs": [],
   "source": [
    "sockU = socket.socket(socket.AF_INET, socket.SOCK_STREAM)\n",
    "sockU.connect(ipaddU) #must start server first\n",
    "sockU.send(b'SEND HELLO MACH')\n",
    "print(sockU.recv(2048).decode())\n",
    "print(sockU.recv(2048).decode())\n",
    "sockU.send(b'answer rcved')\n",
    "sockU.close()"
   ]
  },
  {
   "cell_type": "code",
   "execution_count": null,
   "metadata": {},
   "outputs": [],
   "source": [
    "IThread.stopconnexion()"
   ]
  },
  {
   "cell_type": "code",
   "execution_count": null,
   "metadata": {},
   "outputs": [],
   "source": []
  },
  {
   "cell_type": "code",
   "execution_count": null,
   "metadata": {},
   "outputs": [],
   "source": []
  },
  {
   "cell_type": "code",
   "execution_count": null,
   "metadata": {},
   "outputs": [],
   "source": []
  },
  {
   "cell_type": "code",
   "execution_count": null,
   "metadata": {},
   "outputs": [],
   "source": []
  },
  {
   "cell_type": "code",
   "execution_count": null,
   "metadata": {},
   "outputs": [],
   "source": []
  }
 ],
 "metadata": {
  "kernelspec": {
   "display_name": "Python 3",
   "language": "python",
   "name": "python3"
  },
  "language_info": {
   "codemirror_mode": {
    "name": "ipython",
    "version": 3
   },
   "file_extension": ".py",
   "mimetype": "text/x-python",
   "name": "python",
   "nbconvert_exporter": "python",
   "pygments_lexer": "ipython3",
   "version": "3.7.4"
  }
 },
 "nbformat": 4,
 "nbformat_minor": 2
}

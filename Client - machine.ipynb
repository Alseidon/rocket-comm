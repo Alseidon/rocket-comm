{
 "cells": [
  {
   "cell_type": "code",
   "execution_count": null,
   "metadata": {},
   "outputs": [],
   "source": [
    "import socket\n",
    "import time\n",
    "import threading\n",
    "from rockcomm.commsocket import CommSocket\n",
    "from rockcomm.datasave import Data\n",
    "from rockcomm.connexionthread import ConnexionThread\n",
    "\n",
    "\n",
    "class DatasendSocket():\n",
    "    def __init__(self, sock):\n",
    "        self.sock = sock\n",
    "        return\n",
    "\n",
    "    def sendData(self, data):\n",
    "        #print('sending')\n",
    "        self.sock.send(data.dtype.encode())\n",
    "        check = self.sock.recv(2048)\n",
    "        if check != b'DTYPE RCVED':\n",
    "            raise RuntimeError('Problem with dtype sending : {}'.format(check))\n",
    "        #print('dtype sent')\n",
    "        self.sock.send(str(data.dvalue).encode())\n",
    "        check = self.sock.recv(2048)\n",
    "        if check != b'DVALUE RCVED':\n",
    "            raise RuntimeError('Problem with dtype sending : {}'.format(check))\n",
    "        #print('dvalue sent')\n",
    "        self.sock.send('EOD'.encode())\n",
    "        check = self.sock.recv(2048)\n",
    "        if check != b'EOD RCVED':\n",
    "            raise RuntimeError('Problem with EOD sending : {}'.format(check.decode()))\n",
    "        #print('EOD sent')\n",
    "        return\n",
    "        #self.sock.close()\n",
    "\n",
    "class CommandAnswerSocket(CommSocket):\n",
    "    def comm(self):\n",
    "        command = self.sock.recv(2048)\n",
    "        if command == b'SEND HELLO':\n",
    "            self.sock.send(b'Hello')\n",
    "        elif command != b'0':\n",
    "            self.sock.send(command)\n",
    "        self.sock.close()\n",
    "\n",
    "\n",
    "\n",
    "\n",
    "class DatasendThread(threading.Thread):\n",
    "    def __init__(self, address, data, continuous=True):\n",
    "        threading.Thread.__init__(self)\n",
    "        self.address = address\n",
    "        self.data = data\n",
    "        self.continuous = continuous\n",
    "        return\n",
    "    \n",
    "    def run(self):\n",
    "        while(self.continuous):\n",
    "            print('Datasend thread running new loop')\n",
    "            self.sock = socket.socket(socket.AF_INET, socket.SOCK_STREAM)\n",
    "            self.sock.connect(self.address)\n",
    "            DSendSock = DatasendSocket(self.sock)\n",
    "            DSendSock.sendData(self.data())\n",
    "            self.sock.close()\n",
    "            time.sleep(1)\n",
    "        print('Datasend Thread at {} shutting down'.format(self.address))\n",
    "        return\n",
    "\n",
    "    def stopconnexion(self):\n",
    "        self.continuous = False\n",
    "\n",
    "class CommansThread(threading.Thread):\n",
    "    def __init__(self, address):\n",
    "        threading.Thread.__init__(self)\n",
    "        self.address = address\n",
    "        self.continuous = True\n",
    "        return\n",
    "    \n",
    "    def run(self):\n",
    "        while(self.continuous):\n",
    "            print('CommAns thread running new loop')\n",
    "            self.sock = socket.socket(socket.AF_INET, socket.SOCK_STREAM)\n",
    "            self.sock.connect(self.address)\n",
    "            sockCANS = CommandAnswerSocket(self.sock, self.address)\n",
    "            sockCANS.comm()\n",
    "            self.sock.close()\n",
    "            time.sleep(1)\n",
    "        print('Commans Thread at {} shutting down'.format(self.address))\n",
    "    \n",
    "    def stopconnexion(self):\n",
    "        self.continuous = False\n",
    "\n",
    "ipaddDSEND = ('localhost', 1111)\n",
    "ipaddCANS = ('localhost', 1112)\n",
    "sockDSEND = socket.socket(socket.AF_INET, socket.SOCK_STREAM)\n",
    "sockCANS = socket.socket(socket.AF_INET, socket.SOCK_STREAM)\n",
    "\n",
    "def timedata():\n",
    "    return Data('time', time.time())"
   ]
  },
  {
   "cell_type": "code",
   "execution_count": null,
   "metadata": {},
   "outputs": [],
   "source": [
    "CAnsThread = CommansThread(ipaddCANS)\n",
    "CAnsThread.start()"
   ]
  },
  {
   "cell_type": "code",
   "execution_count": null,
   "metadata": {},
   "outputs": [],
   "source": [
    "#Data('acceleration', 9.806)\n",
    "\n",
    "DSndThread = DatasendThread(ipaddDSEND, timedata)\n",
    "DSndThread.start()"
   ]
  },
  {
   "cell_type": "code",
   "execution_count": null,
   "metadata": {},
   "outputs": [],
   "source": [
    "CAnsThread.stopconnexion()"
   ]
  },
  {
   "cell_type": "code",
   "execution_count": null,
   "metadata": {},
   "outputs": [],
   "source": [
    "DSndThread.stopconnexion()"
   ]
  },
  {
   "cell_type": "code",
   "execution_count": null,
   "metadata": {},
   "outputs": [],
   "source": []
  },
  {
   "cell_type": "code",
   "execution_count": null,
   "metadata": {},
   "outputs": [],
   "source": []
  },
  {
   "cell_type": "code",
   "execution_count": null,
   "metadata": {},
   "outputs": [],
   "source": []
  },
  {
   "cell_type": "code",
   "execution_count": null,
   "metadata": {},
   "outputs": [],
   "source": []
  },
  {
   "cell_type": "code",
   "execution_count": null,
   "metadata": {},
   "outputs": [],
   "source": []
  },
  {
   "cell_type": "code",
   "execution_count": null,
   "metadata": {},
   "outputs": [],
   "source": []
  },
  {
   "cell_type": "code",
   "execution_count": null,
   "metadata": {},
   "outputs": [],
   "source": []
  },
  {
   "cell_type": "code",
   "execution_count": null,
   "metadata": {},
   "outputs": [],
   "source": []
  },
  {
   "cell_type": "code",
   "execution_count": null,
   "metadata": {},
   "outputs": [],
   "source": []
  },
  {
   "cell_type": "code",
   "execution_count": null,
   "metadata": {},
   "outputs": [],
   "source": []
  },
  {
   "cell_type": "code",
   "execution_count": null,
   "metadata": {},
   "outputs": [],
   "source": []
  }
 ],
 "metadata": {
  "kernelspec": {
   "display_name": "Python 3",
   "language": "python",
   "name": "python3"
  },
  "language_info": {
   "codemirror_mode": {
    "name": "ipython",
    "version": 3
   },
   "file_extension": ".py",
   "mimetype": "text/x-python",
   "name": "python",
   "nbconvert_exporter": "python",
   "pygments_lexer": "ipython3",
   "version": "3.7.4"
  }
 },
 "nbformat": 4,
 "nbformat_minor": 2
}
